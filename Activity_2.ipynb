{
  "nbformat": 4,
  "nbformat_minor": 0,
  "metadata": {
    "colab": {
      "provenance": [],
      "authorship_tag": "ABX9TyO9EOui5iCI2PU/4IJFPa3F",
      "include_colab_link": true
    },
    "kernelspec": {
      "name": "python3",
      "display_name": "Python 3"
    },
    "language_info": {
      "name": "python"
    }
  },
  "cells": [
    {
      "cell_type": "markdown",
      "metadata": {
        "id": "view-in-github",
        "colab_type": "text"
      },
      "source": [
        "<a href=\"https://colab.research.google.com/github/Christian-Dale-Gutierrez/DSA-58011/blob/main/Activity_2.ipynb\" target=\"_parent\"><img src=\"https://colab.research.google.com/assets/colab-badge.svg\" alt=\"Open In Colab\"/></a>"
      ]
    },
    {
      "cell_type": "code",
      "execution_count": 11,
      "metadata": {
        "colab": {
          "base_uri": "https://localhost:8080/"
        },
        "id": "ngneM7i7g40U",
        "outputId": "ed5b1b77-5498-4210-f0d5-bf3effba3eca"
      },
      "outputs": [
        {
          "output_type": "stream",
          "name": "stdout",
          "text": [
            "a\n",
            "e\n",
            "i\n",
            "o\n",
            "u\n",
            "head of the list:  a\n",
            "tail of the list:  u\n"
          ]
        }
      ],
      "source": [
        "class Node:\n",
        "\n",
        "  def __init__(self,data):\n",
        "    self.data=data      \n",
        "    self.next=None     \n",
        "\n",
        "class LinkedList:\n",
        "  def __init__(self):\n",
        "    self.head = None    \n",
        "  def printlist(self):\n",
        "    temp=self.head\n",
        "    while(temp):\n",
        "      print(temp.data)\n",
        "      temp=temp.next\n",
        "\n",
        "\n",
        "\n",
        "llist = LinkedList()\n",
        "llist.head = Node('a')\n",
        "second = Node('e')\n",
        "third= Node('i')\n",
        "fourth= Node('o')\n",
        "fifth= Node('u')\n",
        "\n",
        "llist.head.next = second\n",
        "second.next = third\n",
        "third.next = fourth\n",
        "fourth.next = fifth\n",
        "\n",
        "\n",
        "llist.printlist()\n",
        "\n",
        "print(\"head of the list: \",items.head.data)\n",
        "print(\"tail of the list: \",items.tail.data)"
      ]
    }
  ]
}