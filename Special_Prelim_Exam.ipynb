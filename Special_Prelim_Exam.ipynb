{
  "nbformat": 4,
  "nbformat_minor": 0,
  "metadata": {
    "colab": {
      "provenance": [],
      "authorship_tag": "ABX9TyOceBTgQoNfpq+Rs9Gt8eQ8",
      "include_colab_link": true
    },
    "kernelspec": {
      "name": "python3",
      "display_name": "Python 3"
    },
    "language_info": {
      "name": "python"
    }
  },
  "cells": [
    {
      "cell_type": "markdown",
      "metadata": {
        "id": "view-in-github",
        "colab_type": "text"
      },
      "source": [
        "<a href=\"https://colab.research.google.com/github/Christian-Dale-Gutierrez/DSA-58011/blob/main/Special_Prelim_Exam.ipynb\" target=\"_parent\"><img src=\"https://colab.research.google.com/assets/colab-badge.svg\" alt=\"Open In Colab\"/></a>"
      ]
    },
    {
      "cell_type": "markdown",
      "source": [
        "PYHTON PROGRAM THAT CREATES THE ARRAY LIST A = [1,2,3,4,5,6,7,8,9,10] AND COUNTS THE ODD NUMBERS"
      ],
      "metadata": {
        "id": "PQehvwN0wHFf"
      }
    },
    {
      "cell_type": "code",
      "source": [
        "A = [1,2,3,4,5,6,7,8,9,10]\n",
        "ODDNUM = [1,3,5,7,9]\n",
        "print(A)\n",
        "print(\"Odd Numbers :\",ODDNUM)\n",
        "print(\"Number of Odd Numbers :\",len(ODDNUM))"
      ],
      "metadata": {
        "colab": {
          "base_uri": "https://localhost:8080/"
        },
        "id": "aS35CovmwSKd",
        "outputId": "b7fdb9ca-6803-41be-f016-4a404b3f335a"
      },
      "execution_count": 10,
      "outputs": [
        {
          "output_type": "stream",
          "name": "stdout",
          "text": [
            "[1, 2, 3, 4, 5, 6, 7, 8, 9, 10]\n",
            "Odd Numbers : [1, 3, 5, 7, 9]\n",
            "Number of Odd Numbers : 5\n"
          ]
        }
      ]
    }
  ]
}