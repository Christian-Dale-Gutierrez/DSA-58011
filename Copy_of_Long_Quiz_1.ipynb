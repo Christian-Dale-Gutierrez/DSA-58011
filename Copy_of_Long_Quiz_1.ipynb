{
  "nbformat": 4,
  "nbformat_minor": 0,
  "metadata": {
    "colab": {
      "provenance": [],
      "authorship_tag": "ABX9TyOoCHqhrbucJWvBiNgHydmy",
      "include_colab_link": true
    },
    "kernelspec": {
      "name": "python3",
      "display_name": "Python 3"
    },
    "language_info": {
      "name": "python"
    }
  },
  "cells": [
    {
      "cell_type": "markdown",
      "metadata": {
        "id": "view-in-github",
        "colab_type": "text"
      },
      "source": [
        "<a href=\"https://colab.research.google.com/github/Christian-Dale-Gutierrez/DSA-58011/blob/main/Copy_of_Long_Quiz_1.ipynb\" target=\"_parent\"><img src=\"https://colab.research.google.com/assets/colab-badge.svg\" alt=\"Open In Colab\"/></a>"
      ]
    },
    {
      "cell_type": "markdown",
      "source": [
        "PHYTON PROGRAM THAT APPENDS EACH CHARATCTER OF YOUR FULL NAME AND COUNTS THE VOWEL "
      ],
      "metadata": {
        "id": "YVWr13UwCVEq"
      }
    },
    {
      "cell_type": "code",
      "execution_count": null,
      "metadata": {
        "colab": {
          "base_uri": "https://localhost:8080/"
        },
        "id": "mYwuS5OACUFF",
        "outputId": "2dbb01c8-7aff-4351-fbc3-fb9bdfe2a8a6"
      },
      "outputs": [
        {
          "output_type": "stream",
          "name": "stdout",
          "text": [
            "Full Name: Christian Dale Gutirrrez\n",
            "['C', 'h', 'r', 'i', 's', 't', 'i', 'a', 'n', 'D', 'a', 'l', 'e', 'G', 'u', 't', 'i', 'e', 'r', 'r', 'e', 'z']\n",
            "No. of vowels : 9\n"
          ]
        }
      ],
      "source": [
        "MyName = []\n",
        "MyName.append('C')\n",
        "MyName.append('h')\n",
        "MyName.append('r')\n",
        "MyName.append('i')\n",
        "MyName.append('s')\n",
        "MyName.append('t')\n",
        "MyName.append('i')\n",
        "MyName.append('a')\n",
        "MyName.append('n')\n",
        "MyName.append('D')\n",
        "MyName.append('a')\n",
        "MyName.append('l')\n",
        "MyName.append('e')\n",
        "MyName.append('G')\n",
        "MyName.append('u')\n",
        "MyName.append('t')\n",
        "MyName.append('i')\n",
        "MyName.append('e')\n",
        "MyName.append('r')\n",
        "MyName.append('r')\n",
        "MyName.append('e')\n",
        "MyName.append('z')\n",
        "print(\"Full Name: Christian Dale Gutirrrez\")\n",
        "print(MyName)\n",
        "\n",
        "def vowel_count(str):\n",
        "      \n",
        "    count = 0\n",
        "      \n",
        "    vowel = set(\"aeiouAEIOU\")\n",
        "      \n",
        "    for alphabet in str:\n",
        "\n",
        "        if alphabet in vowel:\n",
        "            count = count + 1\n",
        "      \n",
        "    print(\"No. of vowels :\", count)\n",
        "      \n",
        "str = \"Christian Dale Gutierrez\"\n",
        "vowel_count(str)\n"
      ]
    }
  ]
}